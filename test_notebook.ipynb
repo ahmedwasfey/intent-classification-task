{
  "cells": [
    {
      "cell_type": "code",
      "execution_count": 6,
      "metadata": {
        "id": "RQQTYoFbbVEq"
      },
      "outputs": [],
      "source": [
        "from transformers import pipeline\n",
        "\n",
        "classifier = pipeline(\"zero-shot-classification\", model=\"facebook/bart-large-mnli\")\n",
        "\n",
        "intents = [\"greeting\", \"farewell\", \"query_weather\", \"set_alarm\", \"play_music\"]"
      ]
    },
    {
      "cell_type": "code",
      "execution_count": 7,
      "metadata": {
        "colab": {
          "base_uri": "https://localhost:8080/"
        },
        "id": "WwBllFY8hOmG",
        "outputId": "015c57e9-c5be-44f3-b853-30eb35a1a415"
      },
      "outputs": [
        {
          "data": {
            "text/plain": [
              "{'sequence': \"What's the weather like today?\",\n",
              " 'labels': ['query_weather',\n",
              "  'set_alarm',\n",
              "  'greeting',\n",
              "  'play_music',\n",
              "  'farewell'],\n",
              " 'scores': [0.8917734622955322,\n",
              "  0.04027468338608742,\n",
              "  0.03023034892976284,\n",
              "  0.025696218013763428,\n",
              "  0.0120252575725317]}"
            ]
          },
          "execution_count": 7,
          "metadata": {},
          "output_type": "execute_result"
        }
      ],
      "source": [
        "classifier(\"What's the weather like today?\", intents)"
      ]
    },
    {
      "cell_type": "code",
      "execution_count": 9,
      "metadata": {
        "id": "tF7SrP36ijRb"
      },
      "outputs": [],
      "source": [
        "def classify_intent(utterance):\n",
        "    result = classifier(utterance, intents)\n",
        "    top_intent = result['labels'][0]\n",
        "    top_score = result['scores'][0]\n",
        "\n",
        "    if top_score < 0.3:  # Threshold for out-of-scope\n",
        "        return \"out_of_scope\", 1 - top_score\n",
        "    else:\n",
        "        return top_intent, top_score"
      ]
    },
    {
      "cell_type": "code",
      "execution_count": 11,
      "metadata": {
        "colab": {
          "base_uri": "https://localhost:8080/"
        },
        "id": "I--YCC07hZ-W",
        "outputId": "7325680f-18e8-4e51-859f-53181a6ae4db"
      },
      "outputs": [
        {
          "name": "stdout",
          "output_type": "stream",
          "text": [
            "Utterance: 'Hello there!'\n",
            "Classified as: greeting\n",
            "Confidence: 0.96\n",
            "\n",
            "Utterance: 'Goodbye, see you later!'\n",
            "Classified as: farewell\n",
            "Confidence: 0.92\n",
            "\n",
            "Utterance: 'What's the weather like today?'\n",
            "Classified as: query_weather\n",
            "Confidence: 0.89\n",
            "\n",
            "Utterance: 'Set an alarm for 7 AM'\n",
            "Classified as: set_alarm\n",
            "Confidence: 0.65\n",
            "\n",
            "Utterance: 'Play some jazz music'\n",
            "Classified as: play_music\n",
            "Confidence: 0.84\n",
            "\n",
            "Utterance: 'Calculate the square root of 256'\n",
            "Classified as: out_of_scope\n",
            "Confidence: 0.70\n",
            "\n",
            "Utterance: 'What's the recipe for chocolate chip cookies?'\n",
            "Classified as: out_of_scope\n",
            "Confidence: 0.70\n",
            "\n"
          ]
        }
      ],
      "source": [
        "# Test utterances\n",
        "test_utterances = [\n",
        "    \"Hello there!\",\n",
        "    \"Goodbye, see you later!\",\n",
        "    \"What's the weather like today?\",\n",
        "    \"Set an alarm for 7 AM\",\n",
        "    \"Play some jazz music\",\n",
        "\n",
        "    \"Calculate the square root of 256\",\n",
        "    \"What's the recipe for chocolate chip cookies?\",\n",
        "\n",
        "]\n",
        "\n",
        "# Run tests\n",
        "for utterance in test_utterances:\n",
        "    intent, confidence = classify_intent(utterance)\n",
        "    print(f\"Utterance: '{utterance}'\")\n",
        "    print(f\"Classified as: {intent}\")\n",
        "    print(f\"Confidence: {confidence:.2f}\")\n",
        "    print()"
      ]
    },
    {
      "cell_type": "code",
      "execution_count": null,
      "metadata": {
        "id": "D-jABxA7idq8"
      },
      "outputs": [],
      "source": []
    }
  ],
  "metadata": {
    "colab": {
      "provenance": []
    },
    "kernelspec": {
      "display_name": "Python 3",
      "name": "python3"
    },
    "language_info": {
      "name": "python"
    }
  },
  "nbformat": 4,
  "nbformat_minor": 0
}
